{
 "cells": [
  {
   "cell_type": "code",
   "execution_count": 1,
   "metadata": {
    "collapsed": true
   },
   "outputs": [],
   "source": [
    "import numpy as np\n",
    "import pandas as pd\n",
    "import matplotlib.pyplot as plt\n",
    "from sklearn.manifold import TSNE\n",
    "from mpl_toolkits.mplot3d import Axes3D\n",
    "from sklearn.cluster import DBSCAN\n",
    "import random"
   ]
  },
  {
   "cell_type": "code",
   "execution_count": 2,
   "metadata": {
    "collapsed": true
   },
   "outputs": [],
   "source": [
    "#https://scikit-learn.org/stable/modules/clustering.html#dbscan"
   ]
  },
  {
   "cell_type": "code",
   "execution_count": 3,
   "metadata": {
    "collapsed": true
   },
   "outputs": [],
   "source": [
    "test_data = np.load(\"../data_preprocessing/test/data.npy\", allow_pickle=True)\n",
    "train_data = np.load(\"../data_preprocessing/train/data.npy\", allow_pickle=True)\n",
    "valid_data = np.load(\"../data_preprocessing/valid/data.npy\", allow_pickle=True)"
   ]
  },
  {
   "cell_type": "code",
   "execution_count": 4,
   "metadata": {},
   "outputs": [
    {
     "ename": "SyntaxError",
     "evalue": "invalid syntax (<ipython-input-4-1f85426aba7d>, line 14)",
     "output_type": "error",
     "traceback": [
      "\u001b[0;36m  File \u001b[0;32m\"<ipython-input-4-1f85426aba7d>\"\u001b[0;36m, line \u001b[0;32m14\u001b[0m\n\u001b[0;31m    valid_ex = []\u001b[0m\n\u001b[0m           ^\u001b[0m\n\u001b[0;31mSyntaxError\u001b[0m\u001b[0;31m:\u001b[0m invalid syntax\n"
     ]
    }
   ],
   "source": [
    "test_ex = []\n",
    "for data_ in test_data:\n",
    "    test_ex.append(data_[\"target\"])\n",
    "test_ex = np.stack(test_ex, axis=0)\n",
    "#\n",
    "train_ex = []\n",
    "for data_ in train_data:\n",
    "    train_ex.append(data_[\"target\"])\n",
    "train_ex = np.stack(train_ex, axis=0)\n",
    "sample_idx = list(range(train_ex.shape[0]))\n",
    "random.shuffle(sample_idx)\n",
    "s_train_ex = train_ex[sample_idx[:800]]\n",
    "#\n",
    "valid_ex = []\n",
    "for data_ in valid_data:\n",
    "    valid_ex.append(data_[\"target\"])\n",
    "valid_ex = np.stack(valid_ex, axis=0)\n",
    "sample_idx = list(range(valid_ex.shape[0]))\n",
    "random.shuffle(sample_idx)\n",
    "s_valid_ex = valid_ex[sample_idx[:800]]"
   ]
  },
  {
   "cell_type": "code",
   "execution_count": null,
   "metadata": {},
   "outputs": [],
   "source": [
    "#n_features = train_ex.shape[1]*train_ex.shape[2]\n",
    "n_features = train_ex.shape[2]"
   ]
  },
  {
   "cell_type": "code",
   "execution_count": null,
   "metadata": {},
   "outputs": [],
   "source": [
    "s_train_ex = np.reshape(train_ex, [-1, n_features])\n",
    "s_valid_ex = np.reshape(valid_ex, [-1, n_features])\n",
    "test_ex = np.reshape(test_ex, [-1, n_features])"
   ]
  },
  {
   "cell_type": "code",
   "execution_count": null,
   "metadata": {},
   "outputs": [],
   "source": [
    "test_ex.shape"
   ]
  },
  {
   "cell_type": "code",
   "execution_count": null,
   "metadata": {},
   "outputs": [],
   "source": [
    "db = DBSCAN(eps=0.3, min_samples=10).fit(s_train_ex)\n",
    "labels = db.labels_"
   ]
  },
  {
   "cell_type": "code",
   "execution_count": null,
   "metadata": {},
   "outputs": [],
   "source": [
    "n_clusters_ = len(set(labels)) - (1 if -1 in labels else 0)\n",
    "n_noise_ = list(labels).count(-1)"
   ]
  },
  {
   "cell_type": "code",
   "execution_count": null,
   "metadata": {},
   "outputs": [],
   "source": [
    "print(n_clusters_)\n",
    "print(n_noise_)"
   ]
  },
  {
   "cell_type": "code",
   "execution_count": null,
   "metadata": {},
   "outputs": [],
   "source": [
    "len(set(labels))"
   ]
  },
  {
   "cell_type": "code",
   "execution_count": null,
   "metadata": {
    "collapsed": true
   },
   "outputs": [],
   "source": []
  }
 ],
 "metadata": {
  "kernelspec": {
   "display_name": "Python 3",
   "language": "python",
   "name": "python3"
  },
  "language_info": {
   "codemirror_mode": {
    "name": "ipython",
    "version": 3
   },
   "file_extension": ".py",
   "mimetype": "text/x-python",
   "name": "python",
   "nbconvert_exporter": "python",
   "pygments_lexer": "ipython3",
   "version": "3.6.1"
  }
 },
 "nbformat": 4,
 "nbformat_minor": 2
}
